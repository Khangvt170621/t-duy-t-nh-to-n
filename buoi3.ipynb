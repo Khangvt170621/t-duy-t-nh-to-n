{
 "cells": [
  {
   "cell_type": "code",
   "execution_count": 6,
   "id": "3434b2a7",
   "metadata": {},
   "outputs": [
    {
     "name": "stdout",
     "output_type": "stream",
     "text": [
      "0 7 14 21 28 35 42 49 56 63 70 77 84 91 98 105 112 119 126 133 140 147 154 161 168 175 182 189 196 203 210 217 224 231 238 245 252 259 266 273 280 287 294 301 308 315 322 329 336 343 350 357 364 371 378 385 392 399 406 413 420 427 434 441 448 455 462 469 476 483 490 497 504 511 518 525 532 539 546 553 560 567 574 581 588 595 602 609 616 623 630 637 644 651 658 665 672 679 686 693 700 707 714 721 728 735 742 749 756 763 770 777 784 791 798 805 812 819 826 833 840 847 854 861 868 875 882 889 896 903 910 917 924 931 938 945 952 959 966 973 980 987 994 "
     ]
    }
   ],
   "source": [
    "n=0\n",
    "while n < 1000:\n",
    "    if(n%7)==0:\n",
    "        print(n,end ='')    \n",
    "    n+=1"
   ]
  },
  {
   "cell_type": "code",
   "execution_count": 9,
   "id": "e4949e24",
   "metadata": {},
   "outputs": [
    {
     "name": "stdout",
     "output_type": "stream",
     "text": [
      "332667\n"
     ]
    }
   ],
   "source": [
    "t=0\n",
    "n=0\n",
    "while n < 1000:\n",
    "    if (n % 3 ) != 0:\n",
    "        t=t+n\n",
    "    n+=1\n",
    "print(t)"
   ]
  },
  {
   "cell_type": "code",
   "execution_count": 11,
   "id": "8da29e98",
   "metadata": {},
   "outputs": [
    {
     "name": "stdout",
     "output_type": "stream",
     "text": [
      "Nhập một số nguyên: 6\n",
      "N không phải số nguyên tố\n"
     ]
    }
   ],
   "source": [
    "n= int(input(\"Nhập một số nguyên: \"))\n",
    "x=2\n",
    "while x<n:\n",
    "    if(n%x)==0:\n",
    "        print(\"N không phải số nguyên tố\")\n",
    "        break\n",
    "    x=x+1\n",
    "else:\n",
    "    print(\"N là số nguyên tố\")"
   ]
  },
  {
   "cell_type": "code",
   "execution_count": 23,
   "id": "f0afc179",
   "metadata": {},
   "outputs": [
    {
     "name": "stdout",
     "output_type": "stream",
     "text": [
      "chó mèo lợn gà "
     ]
    }
   ],
   "source": [
    "x=['chó','mèo','lợn','gà']\n",
    "for w in x:\n",
    "    print(w, end=' ')"
   ]
  },
  {
   "cell_type": "code",
   "execution_count": 24,
   "id": "45bf5983",
   "metadata": {},
   "outputs": [
    {
     "name": "stdout",
     "output_type": "stream",
     "text": [
      "chó lợn gà "
     ]
    }
   ],
   "source": [
    "x=['chó','mèo','lợn','gà']\n",
    "for y in x:\n",
    "    if  y =='mèo':\n",
    "        continue\n",
    "    print(y, end=' ')"
   ]
  },
  {
   "cell_type": "code",
   "execution_count": 25,
   "id": "2853f295",
   "metadata": {},
   "outputs": [
    {
     "name": "stdout",
     "output_type": "stream",
     "text": [
      "chó "
     ]
    }
   ],
   "source": [
    "x=['chó','mèo','lợn','gà']\n",
    "for z in x:\n",
    "    if  z =='mèo':\n",
    "        break\n",
    "    print(z, end=' ')"
   ]
  },
  {
   "cell_type": "code",
   "execution_count": 5,
   "id": "b2dfc51b",
   "metadata": {},
   "outputs": [
    {
     "name": "stdout",
     "output_type": "stream",
     "text": [
      "[0, 1, 2, 3, 4, 5, 6, 7, 8, 9, 10, 11, 12, 13]\n"
     ]
    }
   ],
   "source": [
    "print(list(range(0,14,1)))"
   ]
  },
  {
   "cell_type": "code",
   "execution_count": 1,
   "id": "43a721ba",
   "metadata": {},
   "outputs": [
    {
     "ename": "NameError",
     "evalue": "name 'i' is not defined",
     "output_type": "error",
     "traceback": [
      "\u001b[0;31m---------------------------------------------------------------------------\u001b[0m",
      "\u001b[0;31mNameError\u001b[0m                                 Traceback (most recent call last)",
      "Input \u001b[0;32mIn [1]\u001b[0m, in \u001b[0;36m<cell line: 5>\u001b[0;34m()\u001b[0m\n\u001b[1;32m      5\u001b[0m     forward(\u001b[38;5;241m50\u001b[39m)\n\u001b[1;32m      6\u001b[0m     left(\u001b[38;5;241m170\u001b[39m)\n\u001b[0;32m----> 7\u001b[0m     \u001b[38;5;28;01mif\u001b[39;00m \u001b[38;5;28mabs\u001b[39m (pos())\u001b[38;5;241m<\u001b[39m\u001b[43mi\u001b[49m:\n\u001b[1;32m      8\u001b[0m         \u001b[38;5;28;01mbreak\u001b[39;00m\n\u001b[1;32m      9\u001b[0m \u001b[38;5;66;03m# end_fill()\u001b[39;00m\n",
      "\u001b[0;31mNameError\u001b[0m: name 'i' is not defined"
     ]
    }
   ],
   "source": [
    "from turtle import *\n",
    "color(\"red\", \"yellow\")\n",
    "# begin_fill()\n",
    "while True:\n",
    "    forward(50)\n",
    "    left(170)\n",
    "    if abs (pos())<i:\n",
    "        break\n",
    "# end_fill()\n",
    "done()"
   ]
  },
  {
   "cell_type": "code",
   "execution_count": 1,
   "id": "5757dc65",
   "metadata": {},
   "outputs": [],
   "source": [
    "import turtle\n",
    "wn = turtle.Screen()\n",
    "alex =turtle.Turtle()\n",
    "\n",
    "alex.forward(50)\n",
    "alex.left(90)\n",
    "alex.forward(30)\n",
    "\n",
    "wn.mainloop()"
   ]
  },
  {
   "cell_type": "code",
   "execution_count": null,
   "id": "7b7481dd",
   "metadata": {},
   "outputs": [],
   "source": [
    "import turtle\n",
    "wn = turtle.Screen()\n",
    "wn.bgcolor('lightblue')\n",
    "wn.title(\"Xin chào, Text!\")\n",
    "\n",
    "\n",
    "tess =turtle.Turtle()\n",
    "tess.color(\"red\")\n",
    "tess.pensize(8)\n",
    "\n",
    "tess.forward(50)\n",
    "tess.left(120)\n",
    "tess.forward(50)\n",
    "\n",
    "wn.mainloop()"
   ]
  },
  {
   "cell_type": "code",
   "execution_count": null,
   "id": "7e6959b7",
   "metadata": {},
   "outputs": [],
   "source": [
    "import turtle\n",
    "wn = turtle.Screen()\n",
    "wn.bgcolor('lightgreen')\n",
    "wn.title(\"tess, alex!\")\n",
    "\n",
    "tess =turtle.Turtle()\n",
    "tess.color(\"hotpink\")\n",
    "tess.pensize(5)\n",
    "\n",
    "alex =turtle.Turtle()\n",
    "\n",
    "for a in range(3):\n",
    "    tess.forward(50)\n",
    "    tess.left(120)\n",
    "\n",
    "for i in range(4):\n",
    "    alex.forward(50)\n",
    "    alex.left(90)\n",
    "wn.mainloop()"
   ]
  },
  {
   "cell_type": "code",
   "execution_count": null,
   "id": "16d805a5",
   "metadata": {},
   "outputs": [],
   "source": [
    "import turtle\n",
    "wn = turtle.Screen()\n",
    "# wn.bgcolor('lightgreen')\n",
    "wn.title(\"tess, alex!\")\n",
    "\n",
    "t =turtle.Turtle()\n",
    "for i in range(361):\n",
    "    t.forward(100)\n",
    "    t.right(179)\n",
    "    t.speed(10)\n",
    "wn.mainloop()"
   ]
  },
  {
   "cell_type": "code",
   "execution_count": null,
   "id": "effa98f5",
   "metadata": {},
   "outputs": [],
   "source": [
    "import turtle\n",
    "wn = turtle.Screen()\n",
    "wn.bgcolor('lightgreen')\n",
    "wn.title(\"tess, alex!\")\n",
    "\n",
    "tess =turtle.Turtle()\n",
    "tess.color(\"hotpink\")\n",
    "tess.pensize(5)\n",
    "tess.speed(10)\n",
    "\n",
    "for a in range(8):\n",
    "    tess.forward(50)\n",
    "    tess.left(135)\n",
    "    tess.forward(50)\n",
    "    tess.left(180)\n",
    "    \n",
    "wn.mainloop()"
   ]
  },
  {
   "cell_type": "code",
   "execution_count": 1,
   "id": "6ea6ae8d",
   "metadata": {},
   "outputs": [],
   "source": [
    "import turtle\n",
    "wn = turtle.Screen()\n",
    "wn.bgcolor('lightgreen')\n",
    "wn.title(\"tess, alex!\")\n",
    "\n",
    "tess =turtle.Turtle()\n",
    "tess.color(\"hotpink\")\n",
    "tess.pensize(5)\n",
    "\n",
    "alex =turtle.Turtle()\n",
    "tess.speed(10)\n",
    "for a in range(6):\n",
    "    tess.left(120)\n",
    "    tess.forward(100)\n",
    "    tess.left(180)\n",
    "    tess.forward(50)\n",
    "    tess.right(120)\n",
    "    tess.forward(100)\n",
    "    tess.right(120)\n",
    "    tess.forward(100)\n",
    "    tess.right(60)\n",
    "    tess.forward(50)\n",
    "    tess.right(120)\n",
    "    tess.forward(50)\n",
    "    tess.left(60)\n",
    "    tess.forward(100)\n",
    "    \n",
    "wn.mainloop()"
   ]
  },
  {
   "cell_type": "code",
   "execution_count": 1,
   "id": "7695826a",
   "metadata": {},
   "outputs": [],
   "source": [
    "import turtle\n",
    "wn = turtle.Screen()\n",
    "wn.bgcolor('lightgreen')\n",
    "wn.title(\"tess, alex!\")\n",
    "tess =turtle.Turtle()\n",
    "tess.color(\"hotpink\")\n",
    "tess.shape('turtle')\n",
    "tess.pensize(1)\n",
    "tess.speed(10)\n",
    "tess.stamp()\n",
    "# tess.left(90)\n",
    "for i in range(60):\n",
    "    tess.penup()\n",
    "    if i%5==0:\n",
    "        tess.forward(90)\n",
    "    else:\n",
    "        tess.forward(100)\n",
    "    tess.pendown()\n",
    "    if i%5==0:\n",
    "        tess.forward(20)\n",
    "    else:\n",
    "        tess.forward(10)\n",
    "    tess.penup()\n",
    "    tess.forward(20)\n",
    "    tess.pendown()\n",
    "    if i%5==0:\n",
    "        tess.stamp()\n",
    "    tess.left(180)\n",
    "    tess.penup()\n",
    "    if i%5==0:\n",
    "        tess.forward(130)\n",
    "    else:\n",
    "        tess.forward(130)\n",
    "    tess.left(174)\n",
    "wn.mainloop()"
   ]
  },
  {
   "cell_type": "code",
   "execution_count": null,
   "id": "fe5e6b59",
   "metadata": {},
   "outputs": [],
   "source": [
    "for _ in range(50):\n",
    "    t.circle(200)\n",
    "    t.right(50)\n",
    "    "
   ]
  }
 ],
 "metadata": {
  "kernelspec": {
   "display_name": "Python 3 (ipykernel)",
   "language": "python",
   "name": "python3"
  },
  "language_info": {
   "codemirror_mode": {
    "name": "ipython",
    "version": 3
   },
   "file_extension": ".py",
   "mimetype": "text/x-python",
   "name": "python",
   "nbconvert_exporter": "python",
   "pygments_lexer": "ipython3",
   "version": "3.9.12"
  }
 },
 "nbformat": 4,
 "nbformat_minor": 5
}
