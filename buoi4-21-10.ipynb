{
 "cells": [
  {
   "cell_type": "code",
   "execution_count": 1,
   "id": "05068711",
   "metadata": {},
   "outputs": [
    {
     "name": "stdout",
     "output_type": "stream",
     "text": [
      "abc\n",
      "c b a\n"
     ]
    }
   ],
   "source": [
    "def firstReverse(strParam):\n",
    "    s=list(strParam)\n",
    "    s.reverse()\n",
    "    new_s= ''.join(s)\n",
    "    return new_s\n",
    "print(firstReverse(input()))"
   ]
  },
  {
   "cell_type": "code",
   "execution_count": 3,
   "id": "2a8ccff2",
   "metadata": {},
   "outputs": [
    {
     "name": "stdout",
     "output_type": "stream",
     "text": [
      "abc\n",
      "cba\n"
     ]
    }
   ],
   "source": [
    "def firstReverse(str):\n",
    "    return str[::-1]\n",
    "print(firstReverse(input()))"
   ]
  },
  {
   "cell_type": "code",
   "execution_count": 11,
   "id": "c1299013",
   "metadata": {},
   "outputs": [
    {
     "name": "stdout",
     "output_type": "stream",
     "text": [
      "Hãy nhập một số: 4\n",
      "Hãy nhập một số: 5\n",
      "Hãy nhập một số: 7\n",
      "Hãy nhập một số: 2\n",
      "Hãy nhập một số: -2\n"
     ]
    },
    {
     "data": {
      "text/plain": [
       "'Tạm biệt'"
      ]
     },
     "execution_count": 11,
     "metadata": {},
     "output_type": "execute_result"
    }
   ],
   "source": [
    "def nhapdayso():\n",
    "    n=1\n",
    "    while (n>0):\n",
    "        n=int(input(\"Hãy nhập một số: \"))\n",
    "    return(\"Tạm biệt\")\n",
    "nhapdayso()"
   ]
  },
  {
   "cell_type": "code",
   "execution_count": 84,
   "id": "9154b8b4",
   "metadata": {},
   "outputs": [
    {
     "name": "stdout",
     "output_type": "stream",
     "text": [
      "Hãy nhập một số: 13\n",
      "N là số nguyên tố\n"
     ]
    }
   ],
   "source": [
    "def kiemtra():\n",
    "    n=int(input(\"Hãy nhập một số: \"))\n",
    "    x=2\n",
    "    while x<n:\n",
    "        if(n%x)==0:\n",
    "            print(\"N không phải số nguyên tố\")\n",
    "            break\n",
    "        x=x+1\n",
    "    else:\n",
    "        print(\"N là số nguyên tố\")\n",
    "    return\n",
    "kiemtra()"
   ]
  },
  {
   "cell_type": "code",
   "execution_count": 66,
   "id": "50c942ff",
   "metadata": {},
   "outputs": [
    {
     "name": "stdout",
     "output_type": "stream",
     "text": [
      "Hãy nhập một số a: 3\n",
      "Hãy nhập một số b: 30\n",
      "[3, 4, 5, 6, 7, 8, 9, 10, 11, 12, 13, 14, 15, 16, 17, 18, 19, 20, 21, 22, 23, 24, 25, 26, 27, 28, 29, 30]\n",
      "3 5 7 11 13 17 19 23 29 "
     ]
    }
   ],
   "source": [
    "def incacso():\n",
    "    n=2\n",
    "    a=int(input(\"Hãy nhập một số a: \"))\n",
    "    b=int(input(\"Hãy nhập một số b: \"))\n",
    "    if (a>=n):\n",
    "        print(list(range(a,b+1,1)))\n",
    "        x=range(a,b+1,1)\n",
    "        for i in x:\n",
    "            dem = 0\n",
    "            for z in range(n,i+1,1):\n",
    "                if(i%z==0):\n",
    "                    dem=dem+1\n",
    "            if(dem==1):\n",
    "                print(i,end =' ')\n",
    "    return\n",
    "incacso()"
   ]
  },
  {
   "cell_type": "code",
   "execution_count": 85,
   "id": "99515042",
   "metadata": {},
   "outputs": [
    {
     "name": "stdout",
     "output_type": "stream",
     "text": [
      "Hãy nhập một số a: 2\n",
      "Hãy nhập một số b: 6\n",
      "Ước chung lớn nhất của  2  và  6  là:  2\n",
      "Bội chung nhỏ nhất của  2  và  6  là:  6.0\n"
     ]
    }
   ],
   "source": [
    "def ucln(a,b):\n",
    "    temp1=a\n",
    "    temp2=b\n",
    "    while (temp1!=temp2):\n",
    "        if(temp1>temp2):\n",
    "            temp1-=temp2\n",
    "        else:\n",
    "            temp2-=temp1\n",
    "    uscln = temp1     \n",
    "    print(\"Ước chung lớn nhất của \",a,\" và \",b,\" là: \",uscln)\n",
    "    bscnn = (a*b/uscln)\n",
    "    print(\"Bội chung nhỏ nhất của \",a,\" và \",b,\" là: \",bscnn)\n",
    "    return\n",
    "a=int(input(\"Hãy nhập một số a: \"))\n",
    "b=int(input(\"Hãy nhập một số b: \"))\n",
    "ucln(a,b)\n",
    "            "
   ]
  },
  {
   "cell_type": "code",
   "execution_count": 19,
   "id": "c3b6d5a7",
   "metadata": {},
   "outputs": [
    {
     "name": "stdout",
     "output_type": "stream",
     "text": [
      "Hãy nhập một số xA: 1\n",
      "Hãy nhập một số yA: 1\n",
      "Hãy nhập một số xB: 2\n",
      "Hãy nhập một số yB: 2\n",
      "Hãy nhập một số xC: 3\n",
      "Hãy nhập một số yC: 3\n",
      "Toạ độ các điểm: A=( 1 , 1 ), B=( 2 , 2 ), C=( 3 , 3 )\n",
      "Độ dài các  cạnh: AB= 1.41 , BC= 1.41 , CA= 2.83\n",
      "Đây là tam giác cân\n"
     ]
    }
   ],
   "source": [
    "def xacdinhtamgiac():\n",
    "    import math\n",
    "    xA=int(input(\"Hãy nhập một số xA: \"))\n",
    "    yA=int(input(\"Hãy nhập một số yA: \"))\n",
    "    xB=int(input(\"Hãy nhập một số xB: \"))\n",
    "    yB=int(input(\"Hãy nhập một số yB: \"))\n",
    "    xC=int(input(\"Hãy nhập một số xC: \"))\n",
    "    yC=int(input(\"Hãy nhập một số yC: \"))\n",
    "    print(\"Toạ độ các điểm: A=(\",xA,\",\",yA,\")\",end=', ')\n",
    "    print(\"B=(\",xB,\",\",yB,\")\",end=', ')\n",
    "    print(\"C=(\",xC,\",\",yC,\")\")\n",
    "\n",
    "    def do_dai(x1,x2,y1,y2):\n",
    "        return math.sqrt((x2-x1)**2+(y2-y1)**2)\n",
    "    AB=do_dai(xA,xB,yA,yB)\n",
    "    BC=do_dai(xB,xC,yB,yC)\n",
    "    CA=do_dai(xC,xA,yC,yA)\n",
    "\n",
    "    if AB==0 or BC==0 or CA==0:\n",
    "        print(\"Độ dài các  cạnh: AB=\",round(AB,2),\",\",\"BC=\",round(BC,2),\",\",\"CA=\",round(CA,2))\n",
    "        print(\"Toạ độ ba điểm này không tạo thành một tam giác\")\n",
    "    else:\n",
    "        print(\"Độ dài các  cạnh: AB=\",round(AB,2),\",\",\"BC=\",round(BC,2),\",\",\"CA=\",round(CA,2))\n",
    "\n",
    "        if AB+BC>=CA or AB+CA>=BC or BC+CA>=AB:\n",
    "            if AB==BC and BC==CA and CA==AB:\n",
    "                print(\"Đây là tam giác đều\")\n",
    "            elif AB**2+BC**2==CA**2 or AB**2+CA**2==BC**2 or BC**2+CA**2==AB**2:\n",
    "                print(\"Đây là tam giác vuông\")\n",
    "            elif AB==BC or AB==CA or BC==CA:\n",
    "                print(\"Đây là tam giác cân\")\n",
    "            elif (AB**2+BC**2==CA**2 or AB**2+CA**2==BC**2 or BC**2+CA**2==AB**2) and (AB==BC or AB==CA or BC==CA):\n",
    "                print(\"Đây là tam giác vuông cân\")\n",
    "            elif AB**2+BC**2<CA**2 or AB**2+CA**2<BC**2 or BC**2+CA**2<AB**2:\n",
    "                print(\"Đây là tam giác tù\")\n",
    "            else:\n",
    "                print(\"Đây là tam giác nhọn\")\n",
    "        else:\n",
    "            print(\"Toạ độ ba điểm này không tạo thành một tam giác\")\n",
    "    return\n",
    "xacdinhtamgiac()"
   ]
  },
  {
   "cell_type": "code",
   "execution_count": null,
   "id": "0334db12",
   "metadata": {},
   "outputs": [],
   "source": [
    "import turtle\n",
    "wn = turtle.Screen()\n",
    "wn.bgcolor('lightgreen')\n",
    "wn.title(\"tess!\")\n",
    "\n",
    "tess =turtle.Turtle()\n",
    "tess.color(\"hotpink\")\n",
    "tess.pensize(5)\n",
    "for a in range(3):\n",
    "    for b in range(6):\n",
    "        tess.forward(100)\n",
    "        tess.right(60)\n",
    "    tess.right(120)\n",
    "wn.mainloop()"
   ]
  },
  {
   "cell_type": "code",
   "execution_count": null,
   "id": "f2b1b396",
   "metadata": {},
   "outputs": [],
   "source": [
    "import turtle\n",
    "wn = turtle.Screen()\n",
    "wn.bgcolor('lightgreen')\n",
    "wn.title(\"tess!\")\n",
    "\n",
    "tess =turtle.Turtle()\n",
    "tess.color(\"hotpink\")\n",
    "tess.pensize(5)\n",
    "for a in range(6):\n",
    "    tess.forward(100)\n",
    "    tess.left(60)\n",
    "    tess.forward(100)\n",
    "    tess.right(120)\n",
    "    tess.forward(100)\n",
    "    tess.right(60)\n",
    "    tess.forward(100)\n",
    "    tess.right(120)\n",
    "    tess.forward(100)\n",
    "    tess.left(60)\n",
    "    tess.forward(100)\n",
    "    tess.left(120)\n",
    "wn.mainloop()"
   ]
  },
  {
   "cell_type": "code",
   "execution_count": null,
   "id": "99a14304",
   "metadata": {},
   "outputs": [
    {
     "name": "stdout",
     "output_type": "stream",
     "text": [
      "Đã click chuột:  -29.0 23.0\n",
      "Đã click chuột:  63.0 94.0\n",
      "Đã click chuột:  -157.0 94.0\n",
      "Đã click chuột:  -137.0 -92.0\n",
      "Đã click chuột:  115.0 -89.0\n",
      "Đã click chuột:  137.0 142.0\n",
      "Đã click chuột:  -186.0 145.0\n",
      "Đã click chuột:  -167.0 -99.0\n",
      "Đã click chuột:  231.0 -121.0\n",
      "Đã click chuột:  205.0 139.0\n",
      "Đã click chuột:  -230.0 37.0\n",
      "Đã click chuột:  -9.0 -103.0\n",
      "Đã click chuột:  113.0 -80.0\n",
      "Đã click chuột:  -56.0 -80.0\n",
      "Đã click chuột:  -109.0 125.0\n",
      "Đã click chuột:  198.0 68.0\n",
      "Đã click chuột:  -92.0 -25.0\n",
      "Đã click chuột:  77.0 -153.0\n",
      "Đã click chuột:  115.0 -91.0\n",
      "Đã click chuột:  -128.0 97.0\n",
      "Đã click chuột:  -137.0 -53.0\n",
      "Đã click chuột:  152.0 156.0\n",
      "Đã click chuột:  16.0 -76.0\n",
      "Đã click chuột:  -190.0 -15.0\n",
      "Đã click chuột:  -19.0 54.0\n",
      "Đã click chuột:  -301.0 77.0\n",
      "Đã click chuột:  -188.0 162.0\n",
      "Đã click chuột:  -111.0 107.0\n",
      "Đã click chuột:  -111.0 107.0\n",
      "Đã click chuột:  -111.0 107.0\n",
      "Đã click chuột:  -111.0 55.0\n",
      "Đã click chuột:  -67.0 -88.0\n",
      "Đã click chuột:  -123.0 55.0\n",
      "Đã click chuột:  -71.0 -7.0\n",
      "Đã click chuột:  -101.0 -7.0\n",
      "Đã click chuột:  -71.0 212.0\n",
      "Đã click chuột:  247.0 55.0\n",
      "Đã click chuột:  -43.0 12.0\n",
      "Đã click chuột:  127.0 -104.0\n",
      "Đã click chuột:  -105.0 118.0\n",
      "Đã click chuột:  18.0 -19.0\n",
      "Đã click chuột:  189.0 104.0\n",
      "Đã click chuột:  -72.0 -68.0\n",
      "Đã click chuột:  -72.0 -68.0\n",
      "Đã click chuột:  143.0 45.0\n",
      "Đã click chuột:  -109.0 -182.0\n"
     ]
    }
   ],
   "source": [
    "import turtle as t \n",
    "t.setup(640,480)\n",
    "t.screensize(640,480)\n",
    "t.title(\"Mouse Click Game\")\n",
    "t.st()\n",
    "t.shape(\"turtle\")\n",
    "t.penup()\n",
    "t.seth(0)\n",
    "def printxy(x,y):\n",
    "    t.goto(x,y)\n",
    "    print(\"Đã click chuột: \", x,y)\n",
    "t.onscreenclick(printxy)\n",
    "t.mainloop()"
   ]
  },
  {
   "cell_type": "code",
   "execution_count": null,
   "id": "d2b47579",
   "metadata": {},
   "outputs": [],
   "source": [
    "import turtle\n",
    "wn = turtle.Screen()\n",
    "wn.bgcolor('lightgreen')\n",
    "wn.title(\"tess!\")\n",
    "\n",
    "tess =turtle.Turtle()\n",
    "tess.color(\"hotpink\")\n",
    "tess.shape('turtle')\n",
    "tess.pensize(5)\n",
    "tess.speed(10)\n",
    "tess.penup()\n",
    "tess.left(180)\n",
    "tess.forward(200)\n",
    "tess.left(180)\n",
    "tess.pendown()\n",
    "x=50\n",
    "for a in range(5):\n",
    "    for z in range(4):\n",
    "        tess.forward(x)\n",
    "        tess.left(90)\n",
    "    tess.forward(x)\n",
    "    x+=20\n",
    "wn.mainloop()"
   ]
  },
  {
   "cell_type": "code",
   "execution_count": null,
   "id": "f9b12764",
   "metadata": {},
   "outputs": [],
   "source": [
    "\n",
    "import turtle\n",
    "wn = turtle.Screen()\n",
    "wn.bgcolor('lightgreen')\n",
    "wn.title(\"tess!\")\n",
    "\n",
    "tess =turtle.Turtle()\n",
    "tess.color(\"hotpink\")\n",
    "tess.pensize(5)\n",
    "for a in range(6):\n",
    "    for b in range(6):\n",
    "        tess.forward(100)\n",
    "        tess.right(60)\n",
    "    tess.right(60)\n",
    "wn.mainloop()"
   ]
  },
  {
   "cell_type": "code",
   "execution_count": null,
   "id": "3edbc860",
   "metadata": {},
   "outputs": [],
   "source": [
    "import turtle\n",
    "wn = turtle.Screen()\n",
    "wn.bgcolor('lightgreen')\n",
    "wn.title(\"tess, alex!\")\n",
    "tess =turtle.Turtle()\n",
    "tess.color(\"hotpink\")\n",
    "tess.shape('turtle')\n",
    "tess.pensize(1)\n",
    "tess.speed(10)\n",
    "tess.stamp()\n",
    "for i in range(60):\n",
    "    tess.penup()\n",
    "    if i%5==0:\n",
    "        tess.forward(90)\n",
    "    else:\n",
    "        tess.forward(100)\n",
    "    tess.pendown()\n",
    "    if i%5==0:\n",
    "        tess.forward(20)\n",
    "    else:\n",
    "        tess.forward(10)\n",
    "    tess.penup()\n",
    "    tess.forward(20)\n",
    "    tess.pendown()\n",
    "    if i%5==0:\n",
    "        tess.stamp()\n",
    "    tess.left(180)\n",
    "    tess.penup()\n",
    "    if i%5==0:\n",
    "        tess.forward(130)\n",
    "    else:\n",
    "        tess.forward(130)\n",
    "    tess.left(174)\n",
    "wn.mainloop()"
   ]
  },
  {
   "cell_type": "code",
   "execution_count": null,
   "id": "afdd3ce4",
   "metadata": {},
   "outputs": [
    {
     "name": "stdout",
     "output_type": "stream",
     "text": [
      "Hãy nhập một số từ 1 đến 5: 2\n",
      "Hãy nhập một số từ 1 đến 5: 5\n",
      "Hãy nhập một số từ 1 đến 5: 4\n",
      "Hãy nhập một số từ 1 đến 5: 3\n",
      "Hãy nhập một số từ 1 đến 5: 5\n",
      "Hãy nhập một số từ 1 đến 5: 3\n",
      "Hãy nhập một số từ 1 đến 5: 2\n",
      "Hãy nhập một số từ 1 đến 5: 4\n",
      "Hãy nhập một số từ 1 đến 5: 3\n",
      "Hãy nhập một số từ 1 đến 5: 2\n",
      "Hãy nhập một số từ 1 đến 5: 1\n",
      "chào tạm biệt\n"
     ]
    }
   ],
   "source": [
    "import turtle\n",
    "wn = turtle.Screen()\n",
    "wn.bgcolor('lightgreen')\n",
    "wn.title(\"tess!\")\n",
    "\n",
    "tess =turtle.Turtle()\n",
    "tess.color(\"hotpink\")\n",
    "\n",
    "def dongho():\n",
    "    tess.clear()\n",
    "    tess.penup()\n",
    "    tess.home()\n",
    "    tess.pendown()\n",
    "    tess.shape('turtle')\n",
    "    tess.pensize(1)\n",
    "    tess.speed(10)\n",
    "    tess.stamp()\n",
    "    for i in range(60):\n",
    "        tess.penup()\n",
    "        if i%5==0:\n",
    "            tess.forward(90)\n",
    "        else:\n",
    "            tess.forward(100)\n",
    "        tess.pendown()\n",
    "        if i%5==0:\n",
    "            tess.forward(20)\n",
    "        else:\n",
    "            tess.forward(10)\n",
    "        tess.penup()\n",
    "        tess.forward(20)\n",
    "        tess.pendown()\n",
    "        if i%5==0:\n",
    "            tess.stamp()\n",
    "        tess.left(180)\n",
    "        tess.penup()\n",
    "        tess.forward(130)\n",
    "        tess.pendown()\n",
    "        tess.left(174)\n",
    "    wn.mainloop()\n",
    "    return\n",
    "\n",
    "def balucgiac():\n",
    "    tess.clear()\n",
    "    tess.penup()\n",
    "    tess.home()\n",
    "    tess.pendown()\n",
    "    tess.pensize(5)\n",
    "    for a in range(3):\n",
    "        for b in range(6):\n",
    "            tess.forward(100)\n",
    "            tess.right(60)\n",
    "        tess.right(120) \n",
    "    wn.mainloop()\n",
    "    return\n",
    "\n",
    "def ngoisao():\n",
    "    tess.clear()\n",
    "    tess.penup()\n",
    "    tess.home()\n",
    "    tess.pendown()\n",
    "    tess.pensize(5)\n",
    "    for a in range(6):\n",
    "        for b in range(6):\n",
    "            tess.forward(100)\n",
    "            tess.right(60)\n",
    "        tess.right(60)\n",
    "    wn.mainloop()\n",
    "    return\n",
    "\n",
    "def namhinhvuong():\n",
    "    tess.clear()\n",
    "    tess.penup()\n",
    "    tess.home()\n",
    "    tess.pendown()\n",
    "    tess.shape('turtle')\n",
    "    tess.pensize(5)\n",
    "    tess.speed(10)\n",
    "    tess.penup()\n",
    "    tess.left(180)\n",
    "    tess.forward(200)\n",
    "    tess.left(180)\n",
    "    tess.pendown()\n",
    "    x=50\n",
    "    for a in range(5):\n",
    "        for z in range(4):\n",
    "            tess.forward(x)\n",
    "            tess.left(90)\n",
    "        tess.forward(x)\n",
    "        x+=20\n",
    "    wn.mainloop()\n",
    "    return\n",
    "print(\"Menu:\")\n",
    "print(\"1.Đồng hồ\")\n",
    "print(\"2.Ba lục giác\")\n",
    "print(\"3.Ngôi sao\")\n",
    "print(\"4.Năm hình vuông\")\n",
    "print(\"5.Kết thúc\")\n",
    "chon=1\n",
    "while (chon!=0):\n",
    "    chon=int(input(\"Hãy nhập một số từ 1 đến 5: \"))\n",
    "    if(chon==2):\n",
    "        dongho()\n",
    "    elif(chon==3):\n",
    "        balucgiac()\n",
    "    elif(chon==4):\n",
    "        ngoisao()\n",
    "    elif(chon==5):\n",
    "        namhinhvuong()\n",
    "    elif(chon==1):\n",
    "        print(\"chào tạm biệt\")\n",
    "        break\n",
    "else:\n",
    "    print(\"Bạn đã nhập sai hãy chạy lại và nhập các số từ 1 đến 5!!!\")\n",
    "wn.mainloop()"
   ]
  },
  {
   "cell_type": "code",
   "execution_count": null,
   "id": "dff10cfd",
   "metadata": {},
   "outputs": [],
   "source": []
  },
  {
   "cell_type": "code",
   "execution_count": null,
   "id": "9b13db36",
   "metadata": {},
   "outputs": [],
   "source": []
  }
 ],
 "metadata": {
  "kernelspec": {
   "display_name": "Python 3 (ipykernel)",
   "language": "python",
   "name": "python3"
  },
  "language_info": {
   "codemirror_mode": {
    "name": "ipython",
    "version": 3
   },
   "file_extension": ".py",
   "mimetype": "text/x-python",
   "name": "python",
   "nbconvert_exporter": "python",
   "pygments_lexer": "ipython3",
   "version": "3.9.12"
  }
 },
 "nbformat": 4,
 "nbformat_minor": 5
}
