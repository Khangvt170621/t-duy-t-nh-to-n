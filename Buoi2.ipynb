{
 "cells": [
  {
   "cell_type": "code",
   "execution_count": 7,
   "id": "154efa2d",
   "metadata": {},
   "outputs": [
    {
     "name": "stdout",
     "output_type": "stream",
     "text": [
      "Số nguyên tạo được,  -2\n",
      "Số thực tạo được,  23.888905238331688\n"
     ]
    }
   ],
   "source": [
    "# from random import randint, uniform\n",
    "x=randint(-10,10)\n",
    "y=uniform(-100,100)\n",
    "print(\"Số nguyên tạo được, \",x)\n",
    "print(\"Số thực tạo được, \",y)\n"
   ]
  },
  {
   "cell_type": "code",
   "execution_count": 8,
   "id": "a8557dbf",
   "metadata": {},
   "outputs": [
    {
     "name": "stdout",
     "output_type": "stream",
     "text": [
      "Hãy nhập  một số nguyên: 98\n",
      "98 là số chẵn.\n",
      "Bạn có biết rằng 2 là số chẵn duy nhất là số nguyên tố?\n"
     ]
    }
   ],
   "source": [
    "x=int(input(\"Hãy nhập  một số nguyên: \"))\n",
    "if x%2==0:\n",
    "    print(x,\"là số chẵn.\")\n",
    "    print(\"Bạn có biết rằng 2 là số chẵn duy nhất là số nguyên tố?\")\n",
    "else:\n",
    "    print(x,\"là số lẻ.\")\n",
    "    print(\"Bạn có biết rằng nhân 2 số lẻ luôn cho số kết quả là số lẻ?\")"
   ]
  },
  {
   "cell_type": "code",
   "execution_count": 16,
   "id": "23387941",
   "metadata": {},
   "outputs": [
    {
     "name": "stdout",
     "output_type": "stream",
     "text": [
      "mời nhập X: -0\n",
      "Mời bạn nhập lại!!!\n"
     ]
    }
   ],
   "source": [
    "x=int(input(\"mời nhập X: \"))\n",
    "if x>0 and x<2:\n",
    "    if x==0:\n",
    "        print(\"Chưa gửi được.\")\n",
    "    elif x==1:\n",
    "        print(\"Đã gửi thành công.\")\n",
    "    else:\n",
    "        print(\"Đã nhận và đã đọc.\")\n",
    "else:\n",
    "    print(\"Mời bạn nhập lại!!!\")"
   ]
  },
  {
   "cell_type": "code",
   "execution_count": 21,
   "id": "684a2138",
   "metadata": {},
   "outputs": [
    {
     "name": "stdout",
     "output_type": "stream",
     "text": [
      "mời bạn nhập năm: 2028\n",
      "Năm 2028 là năm nhuận\n"
     ]
    }
   ],
   "source": [
    "nam=int(input(\"mời bạn nhập năm: \"))\n",
    "if nam%400==0 or nam%4==0 and nam%100!=0:\n",
    "    print(\"Năm\",nam,\"là năm nhuận\")\n",
    "else:\n",
    "    print(\"Năm\",nam,\"không phải là năm nhuận\")"
   ]
  },
  {
   "cell_type": "code",
   "execution_count": 24,
   "id": "c445db79",
   "metadata": {},
   "outputs": [
    {
     "name": "stdout",
     "output_type": "stream",
     "text": [
      "Mời bạn nhập điểm toán: 7\n",
      "Mời bạn nhập điểm ly: 3\n",
      "Mời bạn nhập điểm hoa: 8\n",
      "Mời bạn nhập điểm sinh: 9\n",
      "Mời bạn nhập điểm tin: 3\n",
      "6.166666666666667\n",
      "Trung bình\n"
     ]
    }
   ],
   "source": [
    "toan=float(input(\"Mời bạn nhập điểm toán: \"))\n",
    "ly=float(input(\"Mời bạn nhập điểm ly: \"))\n",
    "hoa=float(input(\"Mời bạn nhập điểm hoa: \"))\n",
    "sinh=float(input(\"Mời bạn nhập điểm sinh: \"))\n",
    "tin=float(input(\"Mời bạn nhập điểm tin: \"))\n",
    "\n",
    "# if toan>0 and toan<10 or ly\n",
    "\n",
    "tb=(toan*2+ly+hoa+sinh+tin)/6\n",
    "print(tb)\n",
    "\n",
    "if tb>=9:\n",
    "    print(\"Xuất sắc\")\n",
    "elif tb>=8:\n",
    "    print(\"Giỏi\")\n",
    "elif tb>=7:\n",
    "    print(\"Khá\")\n",
    "elif tb>=5:\n",
    "    print(\"Trung bình\")\n",
    "else:\n",
    "    print(\"Yếu\")"
   ]
  },
  {
   "cell_type": "code",
   "execution_count": 34,
   "id": "bb0b9708",
   "metadata": {},
   "outputs": [
    {
     "name": "stdout",
     "output_type": "stream",
     "text": [
      "Mời nhập a: 2\n",
      "Mời nhập b: 3\n",
      "Mời nhập c: 6\n",
      "3 số này không tạo thành một tam gác\n"
     ]
    }
   ],
   "source": [
    "a=int(input(\"Mời nhập a: \"))\n",
    "b=int(input(\"Mời nhập b: \"))\n",
    "c=int(input(\"Mời nhập c: \"))\n",
    "\n",
    "if a+b>c and a+c>b and b+c>a:\n",
    "    print(\"3 số này tạo thành một tam giác\")\n",
    "    if a==b and a==c and b==c:\n",
    "        print(\"Tam giác đều\")\n",
    "    elif a==b and a!=c or a==c and a!=b or b==c and b!=a:\n",
    "        print(\"Tam giác cân\")\n",
    "    elif a*a+b*b==c*c or a*a+c*c==b*b or b*b+c*c==a*a:\n",
    "        print(\"Tam giác vuông\")\n",
    "    else:\n",
    "        print(\"Tam giác thường\")\n",
    "else:\n",
    "    print(\"3 số này không tạo thành một tam gác\")\n",
    "\n"
   ]
  },
  {
   "cell_type": "code",
   "execution_count": null,
   "id": "0c0e9f50",
   "metadata": {},
   "outputs": [],
   "source": []
  },
  {
   "cell_type": "code",
   "execution_count": null,
   "id": "a05a71fa",
   "metadata": {},
   "outputs": [],
   "source": []
  }
 ],
 "metadata": {
  "kernelspec": {
   "display_name": "Python 3 (ipykernel)",
   "language": "python",
   "name": "python3"
  },
  "language_info": {
   "codemirror_mode": {
    "name": "ipython",
    "version": 3
   },
   "file_extension": ".py",
   "mimetype": "text/x-python",
   "name": "python",
   "nbconvert_exporter": "python",
   "pygments_lexer": "ipython3",
   "version": "3.9.12"
  }
 },
 "nbformat": 4,
 "nbformat_minor": 5
}
