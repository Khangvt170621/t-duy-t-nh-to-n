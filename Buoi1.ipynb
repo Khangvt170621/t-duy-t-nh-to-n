{
 "cells": [
  {
   "cell_type": "code",
   "execution_count": 1,
   "id": "7b74cb93",
   "metadata": {},
   "outputs": [
    {
     "name": "stdout",
     "output_type": "stream",
     "text": [
      "hello world\n"
     ]
    }
   ],
   "source": [
    "print(\"hello world\")"
   ]
  },
  {
   "cell_type": "code",
   "execution_count": 8,
   "id": "d193d113",
   "metadata": {},
   "outputs": [
    {
     "name": "stdout",
     "output_type": "stream",
     "text": [
      "Tu hoc Python\n",
      "Dia chi o nho:  140353085808560\n"
     ]
    }
   ],
   "source": [
    "X=\"Tu hoc Python\"\n",
    "print(X)\n",
    "print(\"Dia chi o nho: \",id(X))"
   ]
  },
  {
   "cell_type": "code",
   "execution_count": 9,
   "id": "6ed3cdb4",
   "metadata": {},
   "outputs": [
    {
     "name": "stdout",
     "output_type": "stream",
     "text": [
      "hello\n",
      "hello\n"
     ]
    }
   ],
   "source": [
    "mystring='hello'\n",
    "print(mystring)\n",
    "mystring=\"hello\"\n",
    "print(mystring)"
   ]
  },
  {
   "cell_type": "code",
   "execution_count": 10,
   "id": "8cb74d69",
   "metadata": {},
   "outputs": [
    {
     "name": "stdout",
     "output_type": "stream",
     "text": [
      "hello\n"
     ]
    }
   ],
   "source": [
    "mystring=\"hello\"\n",
    "print(mystring)"
   ]
  },
  {
   "cell_type": "code",
   "execution_count": 11,
   "id": "981a3357",
   "metadata": {},
   "outputs": [
    {
     "name": "stdout",
     "output_type": "stream",
     "text": [
      "hello\n"
     ]
    }
   ],
   "source": [
    "mystring='hello'\n",
    "print(mystring)"
   ]
  },
  {
   "cell_type": "code",
   "execution_count": 12,
   "id": "2c7b59c1",
   "metadata": {},
   "outputs": [
    {
     "name": "stdout",
     "output_type": "stream",
     "text": [
      "hello't\n"
     ]
    }
   ],
   "source": [
    "mystring=\"hello't\"\n",
    "print(mystring)"
   ]
  },
  {
   "cell_type": "code",
   "execution_count": 14,
   "id": "07d6b0a9",
   "metadata": {},
   "outputs": [
    {
     "name": "stdout",
     "output_type": "stream",
     "text": [
      "Ten ban la gi? cường\n",
      "Xin chao ban cường!\n",
      "Ban bao nhieu tuoi? 20\n",
      "O ban da 20 tuổi rồi!\n"
     ]
    }
   ],
   "source": [
    "name=input(\"Ten ban la gi? \")\n",
    "print(\"Xin chao ban \"+name+\"!\")\n",
    "age=input(\"Ban bao nhieu tuoi? \")\n",
    "print(\"O ban da \"+age+\" tuổi rồi!\")"
   ]
  },
  {
   "cell_type": "code",
   "execution_count": 15,
   "id": "1aef3495",
   "metadata": {},
   "outputs": [
    {
     "name": "stdout",
     "output_type": "stream",
     "text": [
      "*\n",
      "**\n",
      "***\n",
      "****\n",
      "*****\n"
     ]
    }
   ],
   "source": [
    "print(\"*\")\n",
    "print(\"**\")\n",
    "print(\"***\")\n",
    "print(\"****\")\n",
    "print(\"*****\")"
   ]
  },
  {
   "cell_type": "code",
   "execution_count": 16,
   "id": "82fe12d6",
   "metadata": {},
   "outputs": [
    {
     "name": "stdout",
     "output_type": "stream",
     "text": [
      "*\n",
      "**\n",
      "***\n",
      "****\n",
      "*****\n"
     ]
    }
   ],
   "source": [
    "print(\"*\\n**\\n***\\n****\\n*****\")"
   ]
  },
  {
   "cell_type": "code",
   "execution_count": 17,
   "id": "d9508bad",
   "metadata": {},
   "outputs": [
    {
     "name": "stdout",
     "output_type": "stream",
     "text": [
      "Tôi**yêu**lập**trình**python\n"
     ]
    }
   ],
   "source": [
    "a=\"Tôi\"\n",
    "b=\"yêu\"\n",
    "c=\"lập\"\n",
    "d=\"trình\"\n",
    "e=\"python\"\n",
    "print(a+\"**\"+b+\"**\"+c+\"**\"+d+\"**\"+e)"
   ]
  },
  {
   "cell_type": "code",
   "execution_count": 18,
   "id": "88156f6a",
   "metadata": {},
   "outputs": [
    {
     "data": {
      "text/plain": [
       "2.5"
      ]
     },
     "execution_count": 18,
     "metadata": {},
     "output_type": "execute_result"
    }
   ],
   "source": [
    "1+2*3/4"
   ]
  },
  {
   "cell_type": "code",
   "execution_count": 19,
   "id": "af991f4d",
   "metadata": {},
   "outputs": [
    {
     "name": "stdout",
     "output_type": "stream",
     "text": [
      "2.5\n",
      "hello world\n"
     ]
    }
   ],
   "source": [
    "number=1+2*3/4\n",
    "print(number)\n",
    "helloworld=\"hello\"+\" \"+\"world\"\n",
    "print(helloworld)"
   ]
  },
  {
   "cell_type": "code",
   "execution_count": 21,
   "id": "cd5a1bde",
   "metadata": {},
   "outputs": [
    {
     "name": "stdout",
     "output_type": "stream",
     "text": [
      "[1, 3, 5, 7, 2, 4, 6, 8]\n"
     ]
    }
   ],
   "source": [
    "even_number=[2,4,6,8]\n",
    "odd_number=[1,3,5,7]\n",
    "all_number=odd_number+even_number\n",
    "print(all_number)"
   ]
  },
  {
   "cell_type": "code",
   "execution_count": 22,
   "id": "cc90d536",
   "metadata": {},
   "outputs": [
    {
     "name": "stdout",
     "output_type": "stream",
     "text": [
      "7\n"
     ]
    }
   ],
   "source": [
    "so_phut=456\n",
    "so_gio=so_phut//60\n",
    "print(so_gio)"
   ]
  },
  {
   "cell_type": "code",
   "execution_count": 1,
   "id": "457eb0ef",
   "metadata": {},
   "outputs": [
    {
     "name": "stdout",
     "output_type": "stream",
     "text": [
      "Mời bạn nhập số giây: 31536000\n",
      "0 h 0 ' 0 s\n",
      "1 năm 0 tháng 0 ngay\n"
     ]
    }
   ],
   "source": [
    "so_giay=int(input(\"Mời bạn nhập số giây: \"))\n",
    "ngay= so_giay//86400\n",
    "nam=ngay//365\n",
    "ngay_con_lai=ngay%365\n",
    "thang=ngay_con_lai//30\n",
    "so_ngay_cuoi_cung=ngay_con_lai%30\n",
    "giay_con_lai=so_giay%86400\n",
    "gio=giay_con_lai//3600\n",
    "so_giay_con_lai=giay_con_lai%3600\n",
    "phut=so_giay_con_lai//60\n",
    "so_cuoi_cung=so_giay%60\n",
    "\n",
    "print(gio,\"h\",phut,\"'\",so_cuoi_cung,\"s\")\n",
    "print(nam,\"năm\",thang,\"tháng\",so_ngay_cuoi_cung,\"ngay\")"
   ]
  },
  {
   "cell_type": "code",
   "execution_count": 13,
   "id": "d49e4f15",
   "metadata": {},
   "outputs": [
    {
     "name": "stdout",
     "output_type": "stream",
     "text": [
      "mời bạn nhập thời gian hiện tại: 23\n",
      "Mời bạn nhập thời gian chờ: 23\n",
      "báo thức vào:  22 giờ, 1 ngày sau\n"
     ]
    }
   ],
   "source": [
    "thoi_gian_ht=int(input(\"mời bạn nhập thời gian hiện tại: \"))\n",
    "thoi_gian_cho=int(input(\"Mời bạn nhập thời gian chờ: \"))\n",
    "ngay_bao_thuc=thoi_gian_cho//24\n",
    "thoi_gian_cho_con_lai=thoi_gian_cho%24\n",
    "\n",
    "thoi_gian_bao_thuc=thoi_gian_ht+thoi_gian_cho_con_lai\n",
    "\n",
    "if thoi_gian_bao_thuc>24:\n",
    "    thoi_gian_bao_thuc=thoi_gian_bao_thuc-24\n",
    "    ngay_bao_thuc=ngay_bao_thuc+1\n",
    "\n",
    "print(\"báo thức vào: \",thoi_gian_bao_thuc,\"giờ,\",ngay_bao_thuc,\"ngày sau\")"
   ]
  },
  {
   "cell_type": "code",
   "execution_count": null,
   "id": "ce257027",
   "metadata": {},
   "outputs": [],
   "source": []
  }
 ],
 "metadata": {
  "kernelspec": {
   "display_name": "Python 3 (ipykernel)",
   "language": "python",
   "name": "python3"
  },
  "language_info": {
   "codemirror_mode": {
    "name": "ipython",
    "version": 3
   },
   "file_extension": ".py",
   "mimetype": "text/x-python",
   "name": "python",
   "nbconvert_exporter": "python",
   "pygments_lexer": "ipython3",
   "version": "3.9.12"
  }
 },
 "nbformat": 4,
 "nbformat_minor": 5
}
